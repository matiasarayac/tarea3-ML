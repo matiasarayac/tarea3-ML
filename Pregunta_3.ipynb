{
 "cells": [
  {
   "cell_type": "markdown",
   "metadata": {},
   "source": [
    "# Tarea 3 - Pregunta 3 - Calidad de un vino\n",
    "---\n",
    "# Matías Araya - 201173082-8\n",
    "# Claudia Hazard - 201404523-9"
   ]
  },
  {
   "cell_type": "markdown",
   "metadata": {},
   "source": [
    "# a)\n",
    "Carge los dos dataset en un único dataframe de pandas, además de agregar una columna indicando si\n",
    "es vino tinto o blanco. Describa el dataset a trabajar."
   ]
  },
  {
   "cell_type": "code",
   "execution_count": null,
   "metadata": {},
   "outputs": [],
   "source": [
    "import pandas as pd\n",
    "df_red = pd.read_csv(\"winequality-red.csv\",sep=\";\")\n",
    "df_white = pd.read_csv(\"winequality-white.csv\",sep=\";\")\n",
    "df = pd.concat([df_red,df_white], axis=0)\n",
    "#genere atributo 'tipo"
   ]
  },
  {
   "cell_type": "markdown",
   "metadata": {},
   "source": [
    "# b)\n",
    " Aborde este problema como si fuera de clasificación binaria para predecir si un vino es de buena calidad\n",
    "o no, es decir, utilice las distintas características fisioquímicas presentes en los datos para estimar esta\n",
    "etiqueta. Para esto cree las matrices de entrenamiento y de pruebas, además de la etiqueta para ambos\n",
    "conjuntos, considerando como quality mayor a 5 un vino de buena calidad. El conjunto de pruebas\n",
    "(25 %) será utilizado únicamente para verificar la calidad de los algoritmos a entrenar."
   ]
  },
  {
   "cell_type": "code",
   "execution_count": null,
   "metadata": {},
   "outputs": [],
   "source": [
    "df['good_quality'] = [1 if q>5 else 0 for q in df.quality] #then remove 'quality' from df\n",
    "2 #train and test split over df"
   ]
  },
  {
   "cell_type": "markdown",
   "metadata": {},
   "source": [
    "# c)\n",
    "Entrene un solo Arbol de Clasificación de múltiples niveles para resolver el problema. Puede variar los ´\n",
    "hiper-parámetros que prefiera, recuerde que las decisiones no pueden ser basadas mirando el conjunto\n",
    "de pruebas. Debido al desbalanceo que se produce en las dos clases mida la m´etrica F1-score [5] sobre\n",
    "el conjunto de entrenamiento y de pruebas."
   ]
  },
  {
   "cell_type": "code",
   "execution_count": null,
   "metadata": {},
   "outputs": [],
   "source": []
  },
  {
   "cell_type": "markdown",
   "metadata": {},
   "source": [
    "# d)\n",
    "Entrene un ensamblador de árboles de múltiples niveles, mediante la técnica de Random Forest. Varíe la\n",
    "cantidad de árboles de decisión utilizados en el ensamblado (n estimators), realice un gráfico resumen\n",
    "del F1-score de entrenamiento y de pruebas en función de este hiper-parámetro."
   ]
  },
  {
   "cell_type": "code",
   "execution_count": null,
   "metadata": {},
   "outputs": [],
   "source": [
    "from sklearn.ensemble import RandomForestClassifier\n",
    "model = RandomForestClassifier(n_estimators=, max_depth=,n_jobs=-1)\n",
    "from sklearn.metrics import f1_score\n",
    "f1_score(y_true, y_pred)"
   ]
  },
  {
   "cell_type": "markdown",
   "metadata": {},
   "source": [
    "# e)\n",
    " Entrene un ensamblador de árboles de múltiples niveles, mediante la técnica de AdaBoost. Varíe la\n",
    "cantidad de árboles de decisión utilizados en el ensamblado (n estimators), realice un gráfico resumen\n",
    "del F1-score de entrenamiento y de pruebas en función de este hiper-parámetro. Compare y analice con\n",
    "la técnica utilizada en d)."
   ]
  },
  {
   "cell_type": "code",
   "execution_count": null,
   "metadata": {},
   "outputs": [],
   "source": [
    "from sklearn.ensemble import AdaBoostClassifier\n",
    "model = AdaBoostClassifier(base_estimator=Tree(max_depth=), n_estimators=)"
   ]
  },
  {
   "cell_type": "markdown",
   "metadata": {},
   "source": [
    "# f)\n",
    "Entrene alguna otra máquina de aprendizaje, elegida por usted, para resolver este problema. Elija los\n",
    "hiper-parámetros que estime convenientes intentando aumentar el F1-score obtenido por los algoritmos\n",
    "anteriores. Compare y analice estas 4 maneras de resolver el problema definido en b)."
   ]
  },
  {
   "cell_type": "code",
   "execution_count": null,
   "metadata": {},
   "outputs": [],
   "source": []
  },
  {
   "cell_type": "markdown",
   "metadata": {},
   "source": [
    "# g)\n",
    "Defina un criterio para estimar la importancia de los distintos atributos en el ensamblado de Random Forest, implementelo sobre alguno de los ensambladores entrenados en d), haga un ranking de importancia de atributos >Es posible implementar este criterio sobre una técnica de boost como lo es AdaBoost?"
   ]
  },
  {
   "cell_type": "code",
   "execution_count": null,
   "metadata": {},
   "outputs": [],
   "source": []
  }
 ],
 "metadata": {
  "kernelspec": {
   "display_name": "Python 3",
   "language": "python",
   "name": "python3"
  },
  "language_info": {
   "codemirror_mode": {
    "name": "ipython",
    "version": 3
   },
   "file_extension": ".py",
   "mimetype": "text/x-python",
   "name": "python",
   "nbconvert_exporter": "python",
   "pygments_lexer": "ipython3",
   "version": "3.6.3"
  }
 },
 "nbformat": 4,
 "nbformat_minor": 2
}
